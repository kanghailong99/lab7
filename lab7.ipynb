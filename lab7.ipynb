{
 "cells": [
  {
   "cell_type": "code",
   "execution_count": 1,
   "metadata": {
    "ExecuteTime": {
     "end_time": "2020-11-24T12:42:40.856137Z",
     "start_time": "2020-11-24T12:42:40.850153Z"
    }
   },
   "outputs": [],
   "source": [
    "from __future__ import unicode_literals, print_function, division\n",
    "from io import open\n",
    "import unicodedata\n",
    "import string\n",
    "import re\n",
    "import random\n",
    "\n",
    "import torch\n",
    "import torch.nn as nn\n",
    "from torch import optim\n",
    "import torch.nn.functional as F\n",
    "\n",
    "import numpy as np\n",
    "import jupyter\n",
    "import matplotlib\n",
    "import matplotlib.pyplot as plt\n",
    "import nltk\n",
    "from nltk.translate.bleu_score import sentence_bleu\n",
    "device = torch.device(\"cuda\" if torch.cuda.is_available() else \"cpu\")"
   ]
  },
  {
   "cell_type": "code",
   "execution_count": 2,
   "metadata": {
    "ExecuteTime": {
     "end_time": "2020-11-24T07:29:31.699023Z",
     "start_time": "2020-11-24T07:29:31.692039Z"
    }
   },
   "outputs": [],
   "source": [
    "SOS_token = 0\n",
    "EOS_token = 1\n",
    "\n",
    "\n",
    "class Lang:\n",
    "    def __init__(self, name):\n",
    "        self.name = name\n",
    "        self.word2index = {}\n",
    "        self.word2count = {}\n",
    "        self.index2word = {0: \"SOS\", 1: \"EOS\"}\n",
    "        self.n_words = 2  # Count SOS and EOS\n",
    "\n",
    "    def addSentence(self, sentence):\n",
    "        for word in sentence.split(' '):\n",
    "            self.addWord(word)\n",
    "\n",
    "    def addWord(self, word):\n",
    "        if word not in self.word2index:\n",
    "            self.word2index[word] = self.n_words\n",
    "            self.word2count[word] = 1\n",
    "            self.index2word[self.n_words] = word\n",
    "            self.n_words += 1\n",
    "        else:\n",
    "            self.word2count[word] += 1"
   ]
  },
  {
   "cell_type": "code",
   "execution_count": 3,
   "metadata": {
    "ExecuteTime": {
     "end_time": "2020-11-24T07:29:32.442071Z",
     "start_time": "2020-11-24T07:29:32.436090Z"
    }
   },
   "outputs": [],
   "source": [
    "def unicodeToAscii(s):\n",
    "    return ''.join(\n",
    "    c for c in unicodedata.normalize('NFD', s)\n",
    "    if unicodedata.category(c) != 'Mn'\n",
    "    )\n",
    "\n",
    "\n",
    "# 其中normalizeString函数中的正则表达式需对应更改，否则会将中文单词替换成空格\n",
    "def normalizeString(s):\n",
    "    #变成小写，去掉前后空格\n",
    "    s = s.lower().strip()\n",
    "    if ' ' not in s:\n",
    "        s = list(s)\n",
    "        s = ' '.join(s)\n",
    "    s = unicodeToAscii(s)  #将unicode变成ascii\n",
    "    s = re.sub(r\"([.。!！?？])\", \"\", s)\n",
    "    return s\n"
   ]
  },
  {
   "cell_type": "code",
   "execution_count": 4,
   "metadata": {
    "ExecuteTime": {
     "end_time": "2020-11-24T07:29:33.024843Z",
     "start_time": "2020-11-24T07:29:33.018859Z"
    }
   },
   "outputs": [],
   "source": [
    "def readLangs(lang1, lang2, reverse=False):\n",
    "    print(\"Reading lines...\")\n",
    "\n",
    "    # Read the file and split into lines\n",
    "    file_path = \"./data/eng-cmn.txt\"\n",
    "    with open(file_path, encoding='utf-8') as file:\n",
    "        lines = file.readlines()\n",
    "    \n",
    "\n",
    "    # Split every line into pairs and normalize\n",
    "    pairs = [[normalizeString(s) for s in l.split('\\t')[:2]] for l in lines]\n",
    "\n",
    "\n",
    "    # Reverse pairs, make Lang instances\n",
    "    if reverse:\n",
    "        pairs = [list(reversed(p)) for p in pairs]\n",
    "        input_lang = Lang(lang2)\n",
    "        output_lang = Lang(lang1)\n",
    "    else:\n",
    "        input_lang = Lang(lang1)\n",
    "        output_lang = Lang(lang2)\n",
    "\n",
    "    return input_lang, output_lang, pairs"
   ]
  },
  {
   "cell_type": "code",
   "execution_count": 5,
   "metadata": {
    "ExecuteTime": {
     "end_time": "2020-11-24T07:29:33.645026Z",
     "start_time": "2020-11-24T07:29:33.640039Z"
    }
   },
   "outputs": [],
   "source": [
    "MAX_LENGTH = 10\n",
    "\n",
    "eng_prefixes = (\n",
    "    \"i am \", \"i m \",\n",
    "    \"he is\", \"he s \",\n",
    "    \"she is\", \"she s \",\n",
    "    \"you are\", \"you re \",\n",
    "    \"we are\", \"we re \",\n",
    "    \"they are\", \"they re \"\n",
    ")\n",
    "\n",
    "\n",
    "def filterPair(p):\n",
    "    return len(p[0].split(' ')) < MAX_LENGTH and \\\n",
    "        len(p[1].split(' ')) < MAX_LENGTH and \\\n",
    "        p[1].startswith(eng_prefixes)\n",
    "\n",
    "\n",
    "def filterPairs(pairs):\n",
    "    return [pair for pair in pairs if filterPair(pair)]"
   ]
  },
  {
   "cell_type": "code",
   "execution_count": 6,
   "metadata": {
    "ExecuteTime": {
     "end_time": "2020-11-24T07:29:34.159542Z",
     "start_time": "2020-11-24T07:29:34.150559Z"
    }
   },
   "outputs": [],
   "source": [
    "def prepareData(lang1, lang2, reverse=False):\n",
    "    input_lang, output_lang, pairs = readLangs(lang1, lang2, reverse)\n",
    "    print(\"Read %s sentence pairs\" % len(pairs))\n",
    "    pairs = filterPairs(pairs)\n",
    "    print(\"Trimmed to %s sentence pairs\" % len(pairs))\n",
    "    print(\"Counting words...\")\n",
    "    for pair in pairs:\n",
    "        input_lang.addSentence(pair[0])\n",
    "        output_lang.addSentence(pair[1])\n",
    "    print(\"Counted words:\")\n",
    "    print(input_lang.name, input_lang.n_words)\n",
    "    print(output_lang.name, output_lang.n_words)\n",
    "    return input_lang, output_lang, pairs\n",
    "\n"
   ]
  },
  {
   "cell_type": "code",
   "execution_count": 7,
   "metadata": {
    "ExecuteTime": {
     "end_time": "2020-11-24T07:29:35.225230Z",
     "start_time": "2020-11-24T07:29:34.726555Z"
    }
   },
   "outputs": [
    {
     "name": "stdout",
     "output_type": "stream",
     "text": [
      "Reading lines...\n",
      "Read 24026 sentence pairs\n",
      "Trimmed to 459 sentence pairs\n",
      "Counting words...\n",
      "Counted words:\n",
      "cmn 684\n",
      "eng 560\n",
      "['他 是 我 部 門 的 主 管 ', 'he is the chief of my department']\n"
     ]
    }
   ],
   "source": [
    "input_lang, output_lang, pairs = prepareData('eng', 'cmn', True)\n",
    "print(random.choice(pairs))\n"
   ]
  },
  {
   "cell_type": "code",
   "execution_count": 8,
   "metadata": {
    "ExecuteTime": {
     "end_time": "2020-11-24T07:29:36.198059Z",
     "start_time": "2020-11-24T07:29:36.190080Z"
    }
   },
   "outputs": [
    {
     "data": {
      "text/plain": [
       "'file_path = \"./data/eng-cmn.txt\"\\nwith open(file_path, encoding=\\'utf-8\\') as file:\\n    lines = file.readlines()\\npairs = [[normalizeString(l).split(\\'\\t\\')[:2]] for l in lines]\\ncn = []\\neng = []\\nfor p in pairs:\\n    p=np.array(p)\\n    eng.append([p[0,0]])\\n    cn.append([p[0,1]])'"
      ]
     },
     "execution_count": 8,
     "metadata": {},
     "output_type": "execute_result"
    }
   ],
   "source": [
    "'''file_path = \"./data/eng-cmn.txt\"\n",
    "with open(file_path, encoding='utf-8') as file:\n",
    "    lines = file.readlines()\n",
    "pairs = [[normalizeString(l).split('\\t')[:2]] for l in lines]\n",
    "cn = []\n",
    "eng = []\n",
    "for p in pairs:\n",
    "    p=np.array(p)\n",
    "    eng.append([p[0,0]])\n",
    "    cn.append([p[0,1]])'''"
   ]
  },
  {
   "cell_type": "markdown",
   "metadata": {},
   "source": [
    "# The Encoder"
   ]
  },
  {
   "cell_type": "code",
   "execution_count": 9,
   "metadata": {
    "ExecuteTime": {
     "end_time": "2020-11-24T07:29:37.968175Z",
     "start_time": "2020-11-24T07:29:37.962191Z"
    }
   },
   "outputs": [],
   "source": [
    "class EncoderRNN(nn.Module):\n",
    "    def __init__(self, input_size, hidden_size):\n",
    "        super(EncoderRNN, self).__init__()\n",
    "        self.hidden_size = hidden_size\n",
    "\n",
    "        self.embedding = nn.Embedding(input_size, hidden_size)\n",
    "        self.gru = nn.GRU(hidden_size, hidden_size)\n",
    "\n",
    "    def forward(self, input, hidden):\n",
    "        embedded = self.embedding(input).view(1, 1, -1)\n",
    "        output = embedded\n",
    "        output, hidden = self.gru(output, hidden)\n",
    "        return output, hidden\n",
    "\n",
    "    def initHidden(self):\n",
    "        return torch.zeros(1, 1, self.hidden_size, device=device)"
   ]
  },
  {
   "cell_type": "markdown",
   "metadata": {},
   "source": [
    "# Attention Decoder"
   ]
  },
  {
   "cell_type": "code",
   "execution_count": 10,
   "metadata": {
    "ExecuteTime": {
     "end_time": "2020-11-24T07:29:39.154516Z",
     "start_time": "2020-11-24T07:29:39.144529Z"
    }
   },
   "outputs": [],
   "source": [
    "class AttnDecoderRNN(nn.Module):\n",
    "    def __init__(self, hidden_size, output_size, dropout_p=0.1, max_length=MAX_LENGTH):\n",
    "        super(AttnDecoderRNN, self).__init__()\n",
    "        self.hidden_size = hidden_size\n",
    "        self.output_size = output_size\n",
    "        self.dropout_p = dropout_p\n",
    "        self.max_length = max_length\n",
    "\n",
    "        self.embedding = nn.Embedding(self.output_size, self.hidden_size)\n",
    "        self.attn = nn.Linear(self.hidden_size * 2, self.max_length)\n",
    "        self.attn_combine = nn.Linear(self.hidden_size * 2, self.hidden_size)\n",
    "        self.dropout = nn.Dropout(self.dropout_p)\n",
    "        self.gru = nn.GRU(self.hidden_size, self.hidden_size)\n",
    "        self.out = nn.Linear(self.hidden_size, self.output_size)\n",
    "\n",
    "    def forward(self, input, hidden, encoder_outputs):\n",
    "        embedded = self.embedding(input).view(1, 1, -1)\n",
    "        embedded = self.dropout(embedded)\n",
    "\n",
    "        attn_weights = F.softmax(\n",
    "            self.attn(torch.cat((embedded[0], hidden[0]), 1)), dim=1)\n",
    "        attn_applied = torch.bmm(attn_weights.unsqueeze(0),\n",
    "                                 encoder_outputs.unsqueeze(0))\n",
    "\n",
    "        output = torch.cat((embedded[0], attn_applied[0]), 1)\n",
    "        output = self.attn_combine(output).unsqueeze(0)\n",
    "\n",
    "        output = F.relu(output)\n",
    "        output, hidden = self.gru(output, hidden)\n",
    "\n",
    "        output = F.log_softmax(self.out(output[0]), dim=1)\n",
    "        return output, hidden, attn_weights\n",
    "\n",
    "    def initHidden(self):\n",
    "        return torch.zeros(1, 1, self.hidden_size, device=device)"
   ]
  },
  {
   "cell_type": "markdown",
   "metadata": {},
   "source": [
    "# Preparing Training Data"
   ]
  },
  {
   "cell_type": "code",
   "execution_count": 11,
   "metadata": {
    "ExecuteTime": {
     "end_time": "2020-11-24T07:29:40.250525Z",
     "start_time": "2020-11-24T07:29:40.244540Z"
    }
   },
   "outputs": [],
   "source": [
    "def indexesFromSentence(lang, sentence):\n",
    "    return [lang.word2index[word] for word in sentence.split(' ')]\n",
    "\n",
    "\n",
    "def tensorFromSentence(lang, sentence):\n",
    "    indexes = indexesFromSentence(lang, sentence)\n",
    "    indexes.append(EOS_token)\n",
    "    return torch.tensor(indexes, dtype=torch.long, device=device).view(-1, 1)\n",
    "\n",
    "\n",
    "def tensorsFromPair(pair):\n",
    "    input_tensor = tensorFromSentence(input_lang, pair[0])\n",
    "    target_tensor = tensorFromSentence(output_lang, pair[1])\n",
    "    return (input_tensor, target_tensor)"
   ]
  },
  {
   "cell_type": "markdown",
   "metadata": {},
   "source": [
    "# Training the model"
   ]
  },
  {
   "cell_type": "code",
   "execution_count": 12,
   "metadata": {
    "ExecuteTime": {
     "end_time": "2020-11-24T07:29:44.321737Z",
     "start_time": "2020-11-24T07:29:44.312722Z"
    }
   },
   "outputs": [],
   "source": [
    "teacher_forcing_ratio = 0.5\n",
    "\n",
    "\n",
    "def train(input_tensor, target_tensor, encoder, decoder, encoder_optimizer, decoder_optimizer, criterion, max_length=MAX_LENGTH):\n",
    "    encoder_hidden = encoder.initHidden()\n",
    "\n",
    "    encoder_optimizer.zero_grad()\n",
    "    decoder_optimizer.zero_grad()\n",
    "\n",
    "    input_length = input_tensor.size(0)\n",
    "    target_length = target_tensor.size(0)\n",
    "\n",
    "    encoder_outputs = torch.zeros(max_length, encoder.hidden_size, device=device)\n",
    "\n",
    "    loss = 0\n",
    "\n",
    "    for ei in range(input_length):\n",
    "        encoder_output, encoder_hidden = encoder(\n",
    "            input_tensor[ei], encoder_hidden)\n",
    "        encoder_outputs[ei] = encoder_output[0, 0]\n",
    "\n",
    "    decoder_input = torch.tensor([[SOS_token]], device=device)\n",
    "\n",
    "    decoder_hidden = encoder_hidden\n",
    "\n",
    "    use_teacher_forcing = True if random.random() < teacher_forcing_ratio else False\n",
    "\n",
    "    if use_teacher_forcing:\n",
    "        # Teacher forcing: Feed the target as the next input\n",
    "        for di in range(target_length):\n",
    "            decoder_output, decoder_hidden, decoder_attention = decoder(\n",
    "                decoder_input, decoder_hidden, encoder_outputs)\n",
    "            loss += criterion(decoder_output, target_tensor[di])\n",
    "            decoder_input = target_tensor[di]  # Teacher forcing\n",
    "\n",
    "    else:\n",
    "        # Without teacher forcing: use its own predictions as the next input\n",
    "        for di in range(target_length):\n",
    "            decoder_output, decoder_hidden, decoder_attention = decoder(\n",
    "                decoder_input, decoder_hidden, encoder_outputs)\n",
    "            topv, topi = decoder_output.topk(1)\n",
    "            decoder_input = topi.squeeze().detach()  # detach from history as input\n",
    "\n",
    "            loss += criterion(decoder_output, target_tensor[di])\n",
    "            if decoder_input.item() == EOS_token:\n",
    "                break\n",
    "\n",
    "    loss.backward()\n",
    "\n",
    "    encoder_optimizer.step()\n",
    "    decoder_optimizer.step()\n",
    "\n",
    "    return loss.item() / target_length"
   ]
  },
  {
   "cell_type": "code",
   "execution_count": 13,
   "metadata": {
    "ExecuteTime": {
     "end_time": "2020-11-24T07:29:47.066303Z",
     "start_time": "2020-11-24T07:29:47.059322Z"
    }
   },
   "outputs": [],
   "source": [
    "#This is a helper function to print time elapsed and estimated time remaining given the current time and progress %.\n",
    "\n",
    "import time\n",
    "import math\n",
    "\n",
    "\n",
    "def asMinutes(s):\n",
    "    m = math.floor(s / 60)\n",
    "    s -= m * 60\n",
    "    return '%dm %ds' % (m, s)\n",
    "\n",
    "\n",
    "def timeSince(since, percent):\n",
    "    now = time.time()\n",
    "    s = now - since\n",
    "    es = s / (percent)\n",
    "    rs = es - s\n",
    "    return '%s (- %s)' % (asMinutes(s), asMinutes(rs))"
   ]
  },
  {
   "cell_type": "code",
   "execution_count": 14,
   "metadata": {
    "ExecuteTime": {
     "end_time": "2020-11-24T07:29:48.490965Z",
     "start_time": "2020-11-24T07:29:48.482986Z"
    }
   },
   "outputs": [],
   "source": [
    "def trainIters(encoder, decoder, n_iters, print_every=1000, plot_every=100, learning_rate=0.01):\n",
    "    start = time.time()\n",
    "    plot_losses = []\n",
    "    print_loss_total = 0  # Reset every print_every\n",
    "    plot_loss_total = 0  # Reset every plot_every\n",
    "\n",
    "    encoder_optimizer = optim.SGD(encoder.parameters(), lr=learning_rate)\n",
    "    decoder_optimizer = optim.SGD(decoder.parameters(), lr=learning_rate)\n",
    "    training_pairs = [tensorsFromPair(random.choice(pairs))\n",
    "                      for i in range(n_iters)]\n",
    "    criterion = nn.NLLLoss()\n",
    "\n",
    "    for iter in range(1, n_iters + 1):\n",
    "        training_pair = training_pairs[iter - 1]\n",
    "        input_tensor = training_pair[0]\n",
    "        target_tensor = training_pair[1]\n",
    "\n",
    "        loss = train(input_tensor, target_tensor, encoder,\n",
    "                     decoder, encoder_optimizer, decoder_optimizer, criterion)\n",
    "        print_loss_total += loss\n",
    "        plot_loss_total += loss\n",
    "\n",
    "        if iter % print_every == 0:\n",
    "            print_loss_avg = print_loss_total / print_every\n",
    "            print_loss_total = 0\n",
    "            print('%s (%d %d%%) %.4f' % (timeSince(start, iter / n_iters),\n",
    "                                         iter, iter / n_iters * 100, print_loss_avg))\n",
    "\n",
    "        if iter % plot_every == 0:\n",
    "            plot_loss_avg = plot_loss_total / plot_every\n",
    "            plot_losses.append(plot_loss_avg)\n",
    "            plot_loss_total = 0\n",
    "\n",
    "    showPlot(plot_losses)\n"
   ]
  },
  {
   "cell_type": "markdown",
   "metadata": {},
   "source": [
    "# Plotting results"
   ]
  },
  {
   "cell_type": "code",
   "execution_count": 15,
   "metadata": {
    "ExecuteTime": {
     "end_time": "2020-11-24T07:29:49.899602Z",
     "start_time": "2020-11-24T07:29:49.894616Z"
    }
   },
   "outputs": [],
   "source": [
    "import matplotlib.pyplot as plt\n",
    "import matplotlib.ticker as ticker\n",
    "import numpy as np\n",
    "\n",
    "\n",
    "def showPlot(points):\n",
    "    plt.figure()\n",
    "    fig, ax = plt.subplots()\n",
    "    # this locator puts ticks at regular intervals\n",
    "    loc = ticker.MultipleLocator(base=0.2)\n",
    "    ax.yaxis.set_major_locator(loc)\n",
    "    plt.plot(points)\n",
    "    plt.show()"
   ]
  },
  {
   "cell_type": "markdown",
   "metadata": {
    "ExecuteTime": {
     "end_time": "2020-11-10T01:58:52.080280Z",
     "start_time": "2020-11-10T01:58:52.072221Z"
    }
   },
   "source": [
    "# Evaluation"
   ]
  },
  {
   "cell_type": "code",
   "execution_count": 16,
   "metadata": {
    "ExecuteTime": {
     "end_time": "2020-11-24T07:29:51.101953Z",
     "start_time": "2020-11-24T07:29:51.092977Z"
    }
   },
   "outputs": [],
   "source": [
    "def evaluate(encoder, decoder, sentence, max_length=MAX_LENGTH):\n",
    "    with torch.no_grad():\n",
    "        input_tensor = tensorFromSentence(input_lang, sentence)\n",
    "        input_length = input_tensor.size()[0]\n",
    "        encoder_hidden = encoder.initHidden()\n",
    "\n",
    "        encoder_outputs = torch.zeros(max_length, encoder.hidden_size, device=device)\n",
    "\n",
    "        for ei in range(input_length):\n",
    "            encoder_output, encoder_hidden = encoder(input_tensor[ei],\n",
    "                                                     encoder_hidden)\n",
    "            encoder_outputs[ei] += encoder_output[0, 0]\n",
    "\n",
    "        decoder_input = torch.tensor([[SOS_token]], device=device)  # SOS\n",
    "\n",
    "        decoder_hidden = encoder_hidden\n",
    "\n",
    "        decoded_words = []\n",
    "        decoder_attentions = torch.zeros(max_length, max_length)\n",
    "\n",
    "        for di in range(max_length):\n",
    "            decoder_output, decoder_hidden, decoder_attention = decoder(\n",
    "                decoder_input, decoder_hidden, encoder_outputs)\n",
    "            decoder_attentions[di] = decoder_attention.data\n",
    "            topv, topi = decoder_output.data.topk(1)\n",
    "            if topi.item() == EOS_token:\n",
    "                decoded_words.append('<EOS>')\n",
    "                break\n",
    "            else:\n",
    "                decoded_words.append(output_lang.index2word[topi.item()])\n",
    "\n",
    "            decoder_input = topi.squeeze().detach()\n",
    "\n",
    "        return decoded_words, decoder_attentions[:di + 1]"
   ]
  },
  {
   "cell_type": "code",
   "execution_count": 17,
   "metadata": {
    "ExecuteTime": {
     "end_time": "2020-11-24T12:55:58.170173Z",
     "start_time": "2020-11-24T12:55:58.163192Z"
    }
   },
   "outputs": [],
   "source": [
    "def evaluateRandomly(encoder, decoder, n=100):\n",
    "    sum_scores = 0\n",
    "    for i in range(n):\n",
    "        pair = random.choice(pairs)\n",
    "        print('>', pair[0])\n",
    "        print('=', pair[1])\n",
    "        output_words, attentions = evaluate(encoder, decoder, pair[0])\n",
    "        output_sentence = ' '.join(output_words)\n",
    "        print('<', output_sentence)\n",
    "        print('')\n",
    "        w = []\n",
    "        words = pair[1].strip(' ').split(' ')\n",
    "        words.append('<EOS>')\n",
    "        w.append(words)\n",
    "        bleu_score = sentence_bleu(w, output_words)\n",
    "        sum_scores += bleu_score\n",
    "    print('The bleu_score is ', sum_scores/n)"
   ]
  },
  {
   "cell_type": "markdown",
   "metadata": {},
   "source": [
    "# Training and Evaluating"
   ]
  },
  {
   "cell_type": "code",
   "execution_count": 18,
   "metadata": {
    "ExecuteTime": {
     "end_time": "2020-11-24T08:46:25.977446Z",
     "start_time": "2020-11-24T07:29:53.737176Z"
    }
   },
   "outputs": [
    {
     "name": "stdout",
     "output_type": "stream",
     "text": [
      "1m 30s (- 21m 6s) (5000 6%) 2.3105\n",
      "3m 2s (- 19m 44s) (10000 13%) 0.5790\n",
      "4m 39s (- 18m 39s) (15000 20%) 0.0885\n",
      "6m 13s (- 17m 8s) (20000 26%) 0.0524\n",
      "7m 45s (- 15m 30s) (25000 33%) 0.0390\n",
      "9m 16s (- 13m 54s) (30000 40%) 0.0363\n",
      "10m 44s (- 12m 16s) (35000 46%) 0.0334\n",
      "12m 16s (- 10m 44s) (40000 53%) 0.0329\n",
      "13m 48s (- 9m 12s) (45000 60%) 0.0325\n",
      "15m 23s (- 7m 41s) (50000 66%) 0.0361\n",
      "16m 55s (- 6m 9s) (55000 73%) 0.0305\n",
      "18m 25s (- 4m 36s) (60000 80%) 0.0311\n",
      "20m 4s (- 3m 5s) (65000 86%) 0.0364\n",
      "21m 32s (- 1m 32s) (70000 93%) 0.0360\n",
      "23m 1s (- 0m 0s) (75000 100%) 0.0306\n"
     ]
    },
    {
     "data": {
      "text/plain": [
       "<Figure size 432x288 with 0 Axes>"
      ]
     },
     "metadata": {},
     "output_type": "display_data"
    },
    {
     "data": {
      "image/png": "[encoded data removed]",
      "text/plain": [
       "<Figure size 432x288 with 1 Axes>"
      ]
     },
     "metadata": {
      "needs_background": "light"
     },
     "output_type": "display_data"
    }
   ],
   "source": [
    "hidden_size = 256\n",
    "encoder1 = EncoderRNN(input_lang.n_words, hidden_size).to(device)\n",
    "attn_decoder1 = AttnDecoderRNN(hidden_size, output_lang.n_words, dropout_p=0.1).to(device)\n",
    "\n",
    "trainIters(encoder1, attn_decoder1, 75000, print_every=5000)"
   ]
  },
  {
   "cell_type": "code",
   "execution_count": 19,
   "metadata": {
    "ExecuteTime": {
     "end_time": "2020-11-24T13:15:02.009117Z",
     "start_time": "2020-11-24T13:14:59.780380Z"
    },
    "scrolled": true
   },
   "outputs": [
    {
     "name": "stdout",
     "output_type": "stream",
     "text": [
      "> 他 說 謊 \n",
      "= he is telling a lie\n",
      "< he is telling a lie <EOS>\n",
      "\n",
      "> 她 现 在 正 在 工 作 \n",
      "= she is at work right now\n",
      "< she is at work right now <EOS>\n",
      "\n",
      "> 我 期 待 見 到 你 \n",
      "= i am looking forward to seeing you\n",
      "< i am looking forward to seeing you <EOS>\n",
      "\n",
      "> 他 是 一 個 怪 人 \n",
      "= he is a screwball\n",
      "< he is a screwball <EOS>\n",
      "\n",
      "> 他 對 室 內 灰 塵 過 敏 \n",
      "= he is allergic to house dust\n",
      "< he is allergic to house dust <EOS>\n",
      "\n",
      "> 他 上 电 台 了 \n",
      "= he is on the radio\n",
      "< he is on the radio <EOS>\n",
      "\n",
      "> 我 比 你 矮 \n",
      "= i am shorter than you\n",
      "< i am shorter than you <EOS>\n",
      "\n",
      "> 我 们 非 常 需 要 食 物 \n",
      "= we are badly in need of food\n",
      "< we are badly in need of food <EOS>\n",
      "\n",
      "> 她 可 以 教 英 语 \n",
      "= she is capable of teaching english\n",
      "< she is capable of teaching english <EOS>\n",
      "\n",
      "> 他 在 她 的 旁 邊 \n",
      "= he is at her side\n",
      "< he is at her side <EOS>\n",
      "\n",
      "> 他 总 是 在 笑 \n",
      "= he is always laughing\n",
      "< he is always laughing <EOS>\n",
      "\n",
      "> 她 現 在 八 十 一 歲 了 \n",
      "= she is now eighty-one years old\n",
      "< she is now eighty-one years old <EOS>\n",
      "\n",
      "> 他 們 沒 死 \n",
      "= they aren't dead\n",
      "< they aren't dead <EOS>\n",
      "\n",
      "> 他 不 过 是 个 孩 子 \n",
      "= he is but a child\n",
      "< he is but a child <EOS>\n",
      "\n",
      "> 他 和 我 同 岁 \n",
      "= he is the same age as me\n",
      "< he is the same age as me <EOS>\n",
      "\n",
      "> 我 和 他 认 识 \n",
      "= i am acquainted with him\n",
      "< i am acquainted with him <EOS>\n",
      "\n",
      "> 我 怕 死 \n",
      "= i am afraid of dying\n",
      "< i am afraid of death <EOS>\n",
      "\n",
      "> 我 现 在 正 在 学 习 \n",
      "= i am studying now\n",
      "< i am studying now <EOS>\n",
      "\n",
      "> 他 習 慣 於 作 演 說 \n",
      "= he is used to making speeches\n",
      "< he is used to making speeches <EOS>\n",
      "\n",
      "> 你 是 學 生 \n",
      "= you are a student\n",
      "< you are a student <EOS>\n",
      "\n",
      "> 我 冷 \n",
      "= i am cold\n",
      "< i am cold <EOS>\n",
      "\n",
      "> 她 不 總 是 高 興 \n",
      "= she is not always happy\n",
      "< she is not always happy <EOS>\n",
      "\n",
      "> 你 今 天 早 上 非 常 早 \n",
      "= you are very early this morning\n",
      "< you are very early this morning <EOS>\n",
      "\n",
      "> 你 喝 醉 了 \n",
      "= you are drunk\n",
      "< you are drunk <EOS>\n",
      "\n",
      "> 他 对 此 很 期 待 \n",
      "= he is looking forward to it\n",
      "< he is looking forward to it <EOS>\n",
      "\n",
      "> 她 天 生 体 弱 \n",
      "= she is weak by nature\n",
      "< she is weak by nature <EOS>\n",
      "\n",
      "> 我 学 两 种 外 语 \n",
      "= i am learning two foreign languages\n",
      "< i am learning two foreign languages <EOS>\n",
      "\n",
      "> 他 一 定 会 成 功 \n",
      "= he is sure to succeed\n",
      "< he is sure to succeed <EOS>\n",
      "\n",
      "> 他 和 我 同 岁 \n",
      "= he is just my age\n",
      "< he is the same age as me <EOS>\n",
      "\n",
      "> 他 非 常 生 气 \n",
      "= he is very angry\n",
      "< he is very angry <EOS>\n",
      "\n",
      "> 我 怀 疑 他 是 否 会 来 \n",
      "= i am doubtful whether he will come\n",
      "< i am doubtful whether he will come <EOS>\n",
      "\n",
      "> 他 是 一 名 高 中 學 生 \n",
      "= he is a student at a high school\n",
      "< he is a student at a high school <EOS>\n",
      "\n",
      "> 我 今 天 忙 \n",
      "= i am busy today\n",
      "< i am busy today <EOS>\n",
      "\n",
      "> 她 將 去 千 葉 球 場 \n",
      "= she is going to chiba stadium\n",
      "< she is going to chiba stadium <EOS>\n",
      "\n",
      "> 你 非 常 勇 敢 \n",
      "= you are very brave\n",
      "< you are very brave <EOS>\n",
      "\n",
      "> 你 們 不 再 是 小 孩 了 \n",
      "= you aren't kids anymore\n",
      "< you aren't kids anymore <EOS>\n",
      "\n",
      "> 我 是 个 老 实 人 \n",
      "= i am an honest person\n",
      "< i am an honest person <EOS>\n",
      "\n",
      "> 他 是 医 生 来 的 \n",
      "= he is a doctor\n",
      "< he is a doctor <EOS>\n",
      "\n",
      "> 他 們 是 仇 敵 \n",
      "= they are bitter enemies\n",
      "< they are bitter enemies <EOS>\n",
      "\n",
      "> 她 正 在 澆 花 \n",
      "= she is watering the flowers\n",
      "< she is watering the flowers <EOS>\n",
      "\n",
      "> 我 確 定 他 是 錯 的 \n",
      "= i am positive that he is wrong\n",
      "< i am positive that he is wrong <EOS>\n",
      "\n",
      "> 你 和 我 一 样 高 \n",
      "= you are as tall as i am\n",
      "< you are as tall as i am <EOS>\n",
      "\n",
      "> 你 令 人 难 以 抗 拒 \n",
      "= you are irresistible\n",
      "< you are irresistible <EOS>\n",
      "\n",
      "> 我 們 身 處 核 能 時 代 \n",
      "= we are in the era of atomic energy\n",
      "< we are in the era of atomic energy <EOS>\n",
      "\n",
      "> 我 生 性 樂 觀 \n",
      "= i am an optimist by nature\n",
      "< i am an optimist by nature <EOS>\n",
      "\n",
      "> 我 只 是 去 散 散 步 \n",
      "= i am just going for a walk\n"
     ]
    },
    {
     "name": "stderr",
     "output_type": "stream",
     "text": [
      "E:\\Users\\admin\\anaconda3\\lib\\site-packages\\nltk\\translate\\bleu_score.py:552: UserWarning: \n",
      "The hypothesis contains 0 counts of 3-gram overlaps.\n",
      "Therefore the BLEU score evaluates to 0, independently of\n",
      "how many N-gram overlaps of lower order it contains.\n",
      "Consider using lower n-gram order or use SmoothingFunction()\n",
      "  warnings.warn(_msg)\n",
      "E:\\Users\\admin\\anaconda3\\lib\\site-packages\\nltk\\translate\\bleu_score.py:552: UserWarning: \n",
      "The hypothesis contains 0 counts of 4-gram overlaps.\n",
      "Therefore the BLEU score evaluates to 0, independently of\n",
      "how many N-gram overlaps of lower order it contains.\n",
      "Consider using lower n-gram order or use SmoothingFunction()\n",
      "  warnings.warn(_msg)\n"
     ]
    },
    {
     "name": "stdout",
     "output_type": "stream",
     "text": [
      "< i am just going for a walk <EOS>\n",
      "\n",
      "> 你 是 我 最 好 的 朋 友 \n",
      "= you are my best friend\n",
      "< you are my best friend <EOS>\n",
      "\n",
      "> 他 這 個 人 很 難 相 處 \n",
      "= he is difficult to get along with\n",
      "< he is hard to get along with <EOS>\n",
      "\n",
      "> 我 不 是 巫 婆 \n",
      "= i am not a witch\n",
      "< i am not a witch <EOS>\n",
      "\n",
      "> 他 和 他 的 員 工 相 處 \n",
      "= he is getting along with his employees\n",
      "< he is getting along with his employees <EOS>\n",
      "\n",
      "> 他 不 是 傻 子 \n",
      "= he is no fool\n",
      "< he is no fool <EOS>\n",
      "\n",
      "> 我 在 班 里 是 最 高 的 \n",
      "= i am the tallest in our class\n",
      "< i am the tallest in our class <EOS>\n",
      "\n",
      "> 这 是 一 个 小 偷 \n",
      "= he is a thief\n",
      "< he is a thief <EOS>\n",
      "\n",
      "> 他 會 彈 吉 他 \n",
      "= he is able to play the guitar\n",
      "< he is able to play the guitar <EOS>\n",
      "\n",
      "> 今 天 下 午 我 會 外 出 \n",
      "= i am going out this afternoon\n",
      "< i am going out this afternoon <EOS>\n",
      "\n",
      "> 他 和 他 的 邻 居 相 处 \n",
      "= he is getting along with his neighborhood\n",
      "< he is getting along with his neighborhood <EOS>\n",
      "\n",
      "> 我 不 是 巫 婆 \n",
      "= i am not a witch\n",
      "< i am not a witch <EOS>\n",
      "\n",
      "> 她 精 通 法 語 \n",
      "= she is proficient in french\n",
      "< she is proficient in french <EOS>\n",
      "\n",
      "> 我 学 两 种 外 语 \n",
      "= i am learning two foreign languages\n",
      "< i am learning two foreign languages <EOS>\n",
      "\n",
      "> 他 们 在 谈 音 乐 \n",
      "= they are talking about music\n",
      "< they are talking about music <EOS>\n",
      "\n",
      "> 您 不 是 个 懦 夫 \n",
      "= you are not a coward\n",
      "< you are not a coward <EOS>\n",
      "\n",
      "> 他 今 天 在 家 \n",
      "= he is at home today\n",
      "< he is at home today <EOS>\n",
      "\n",
      "> 他 们 是 我 的 兄 弟 \n",
      "= they are my brothers\n",
      "< they are my brothers <EOS>\n",
      "\n",
      "> 他 和 他 的 員 工 相 處 \n",
      "= he is getting along with his employees\n",
      "< he is getting along with his employees <EOS>\n",
      "\n",
      "> 她 心 情 不 好 \n",
      "= she is upset\n",
      "< she is upset <EOS>\n",
      "\n",
      "> 他 不 在 家 \n",
      "= he isn't at home\n",
      "< he isn't at home <EOS>\n",
      "\n",
      "> 您 非 常 勇 敢 \n",
      "= you are very brave\n",
      "< you are very brave <EOS>\n",
      "\n",
      "> 她 只 是 個 孩 子 \n",
      "= she is just a child\n",
      "< she is only a child <EOS>\n",
      "\n",
      "> 他 有 点 像 他 的 父 亲 \n",
      "= he is a bit like his father\n",
      "< he is a bit like his father <EOS>\n",
      "\n",
      "> 他 一 直 与 我 同 在 \n",
      "= he is always with me\n",
      "< he is always with me <EOS>\n",
      "\n",
      "> 她 在 节 食 中 \n",
      "= she is on a diet\n",
      "< she is dieting <EOS>\n",
      "\n",
      "> 你 可 以 走 了 \n",
      "= you are free to go\n",
      "< you are free to go <EOS>\n",
      "\n",
      "> 他 现 在 住 在 国 外 \n",
      "= he is living abroad at the moment\n",
      "< he is living abroad at the moment <EOS>\n",
      "\n",
      "> 他 们 肯 定 会 相 恋 的 \n",
      "= they are sure to fall in love\n",
      "< they are sure to fall in love <EOS>\n",
      "\n",
      "> 他 是 我 父 親 \n",
      "= he is my father\n",
      "< he is my father <EOS>\n",
      "\n",
      "> 今 天 下 午 我 會 外 出 \n",
      "= i am going out this afternoon\n",
      "< i am going out this afternoon <EOS>\n",
      "\n",
      "> 我 迷 失 了 \n",
      "= i am lost\n",
      "< i am lost <EOS>\n",
      "\n",
      "> 她 下 午 会 洗 自 行 车 \n",
      "= she is going to wash the bike this afternoon\n",
      "< she is going to wash the bike this afternoon <EOS>\n",
      "\n",
      "> 她 很 安 静 \n",
      "= she is quiet\n",
      "< she is quiet <EOS>\n",
      "\n",
      "> 你 和 我 一 样 高 \n",
      "= you are as tall as i am\n",
      "< you are as tall as i am <EOS>\n",
      "\n",
      "> 她 是 我 女 儿 \n",
      "= she is my daughter\n",
      "< she is my daughter <EOS>\n",
      "\n",
      "> 他 上 电 台 了 \n",
      "= he is on the radio\n",
      "< he is on the radio <EOS>\n",
      "\n",
      "> 他 們 都 是 大 學 生 \n",
      "= they are all college students\n",
      "< they are all college students <EOS>\n",
      "\n",
      "> 她 可 以 教 英 语 \n",
      "= she is capable of teaching english\n",
      "< she is capable of teaching english <EOS>\n",
      "\n",
      "> 他 很 懒 \n",
      "= he is lazy\n",
      "< he is lazy <EOS>\n",
      "\n",
      "> 他 在 自 己 房 里 玩 \n",
      "= he is playing in his room\n",
      "< he is playing in his room <EOS>\n",
      "\n",
      "> 他 明 天 將 飛 往 巴 黎 \n",
      "= he is flying to paris tomorrow\n",
      "< he is flying to paris tomorrow <EOS>\n",
      "\n",
      "> 她 錢 不 夠 \n",
      "= she is hard up for money\n",
      "< she is hard up for money <EOS>\n",
      "\n",
      "> 他 在 自 己 房 里 玩 \n",
      "= he is playing in his room\n",
      "< he is playing in his room <EOS>\n",
      "\n",
      "> 他 是 个 棒 球 手 \n",
      "= he is a baseball player\n",
      "< he is a baseball player <EOS>\n",
      "\n",
      "> 他 是 个 有 教 养 的 人 \n",
      "= he is a learned man\n",
      "< he is a learned man <EOS>\n",
      "\n",
      "> 他 不 是 美 国 人 \n",
      "= he is not an american\n",
      "< he isn't an american <EOS>\n",
      "\n",
      "> 他 很 擅 長 橄 欖 球 \n",
      "= he is good at rugby\n",
      "< he is good at rugby <EOS>\n",
      "\n",
      "> 他 决 心 去 英 国 \n",
      "= he is determined to go to england\n",
      "< he is determined to go to england <EOS>\n",
      "\n",
      "> 我 现 在 3 0 岁 了 \n",
      "= i am 30 years old now\n",
      "< i am 30 years old now <EOS>\n",
      "\n",
      "> 他 很 敏 感 \n",
      "= he is very sensitive\n",
      "< he is very sensitive <EOS>\n",
      "\n",
      "> 他 正 在 洗 他 的 车 \n",
      "= he is washing his car\n",
      "< he is washing his car <EOS>\n",
      "\n",
      "> 他 不 是 傻 子 \n",
      "= he is no fool\n",
      "< he is no fool <EOS>\n",
      "\n",
      "> 他 擅 長 騎 馬 \n",
      "= he is good at riding a horse\n",
      "< he is good at riding a horse <EOS>\n",
      "\n",
      "> 我 今 天 忙 \n",
      "= i am busy today\n",
      "< i am busy today <EOS>\n",
      "\n",
      "The bleu_score is  0.9513188852341312\n"
     ]
    }
   ],
   "source": [
    "evaluateRandomly(encoder1, attn_decoder1)"
   ]
  },
  {
   "cell_type": "code",
   "execution_count": 20,
   "metadata": {
    "ExecuteTime": {
     "end_time": "2020-11-24T12:02:10.044338Z",
     "start_time": "2020-11-24T12:02:10.037358Z"
    }
   },
   "outputs": [],
   "source": [
    "plt.rcParams['font.sans-serif'] = ['KaiTi'] # 指定默认字体\n",
    "plt.rcParams['axes.unicode_minus'] = False # 解决保存图像是负号'-'显示为方块的问题"
   ]
  },
  {
   "cell_type": "code",
   "execution_count": 21,
   "metadata": {
    "ExecuteTime": {
     "end_time": "2020-11-24T12:02:12.176286Z",
     "start_time": "2020-11-24T12:02:11.702621Z"
    }
   },
   "outputs": [
    {
     "name": "stdout",
     "output_type": "stream",
     "text": [
      "['you', 'are', 'a', '<EOS>']\n"
     ]
    },
    {
     "data": {
      "image/png": "[encoded data removed]",
      "text/plain": [
       "<Figure size 720x288 with 1 Axes>"
      ]
     },
     "metadata": {
      "needs_background": "light"
     },
     "output_type": "display_data"
    }
   ],
   "source": [
    "output_words, attentions = evaluate(\n",
    "    encoder1, attn_decoder1, \"你 只 是 玩\")\n",
    "print(output_words)\n",
    "plt.matshow(attentions.numpy())\n",
    "plt.show()"
   ]
  },
  {
   "cell_type": "code",
   "execution_count": 22,
   "metadata": {
    "ExecuteTime": {
     "end_time": "2020-11-24T12:02:16.320047Z",
     "start_time": "2020-11-24T12:02:15.354583Z"
    },
    "scrolled": false
   },
   "outputs": [
    {
     "name": "stdout",
     "output_type": "stream",
     "text": [
      "input = 他 和 他 的 邻 居 相 处 \n",
      "output = he is getting along with his neighborhood <EOS>\n"
     ]
    },
    {
     "name": "stderr",
     "output_type": "stream",
     "text": [
      "C:\\Users\\admin\\AppData\\Local\\Temp\\ipykernel_8924\\1190932975.py:9: UserWarning: FixedFormatter should only be used together with FixedLocator\n",
      "  ax.set_xticklabels([''] + input_sentence.split(' ') +\n",
      "C:\\Users\\admin\\AppData\\Local\\Temp\\ipykernel_8924\\1190932975.py:11: UserWarning: FixedFormatter should only be used together with FixedLocator\n",
      "  ax.set_yticklabels([''] + output_words)\n"
     ]
    },
    {
     "data": {
      "image/png": "[encoded data removed]",
      "text/plain": [
       "<Figure size 432x288 with 2 Axes>"
      ]
     },
     "metadata": {
      "needs_background": "light"
     },
     "output_type": "display_data"
    },
    {
     "name": "stdout",
     "output_type": "stream",
     "text": [
      "input = 我 肯 定 他 会 成 功 的 \n",
      "output = i am sure that he will succeed <EOS>\n"
     ]
    },
    {
     "data": {
      "image/png": "[encoded data removed]",
      "text/plain": [
       "<Figure size 432x288 with 2 Axes>"
      ]
     },
     "metadata": {
      "needs_background": "light"
     },
     "output_type": "display_data"
    },
    {
     "name": "stdout",
     "output_type": "stream",
     "text": [
      "input = 他 總 是 忘 記 事 情\n",
      "output = he is always forgetting things <EOS>\n"
     ]
    },
    {
     "data": {
      "image/png": "[encoded data removed]",
      "text/plain": [
       "<Figure size 432x288 with 2 Axes>"
      ]
     },
     "metadata": {
      "needs_background": "light"
     },
     "output_type": "display_data"
    },
    {
     "name": "stdout",
     "output_type": "stream",
     "text": [
      "input = 我 们 非 常 需 要 食 物 \n",
      "output = we are badly in need of food <EOS>\n"
     ]
    },
    {
     "data": {
      "image/png": "[encoded data removed]",
      "text/plain": [
       "<Figure size 432x288 with 2 Axes>"
      ]
     },
     "metadata": {
      "needs_background": "light"
     },
     "output_type": "display_data"
    }
   ],
   "source": [
    "def showAttention(input_sentence, output_words, attentions):\n",
    "    # Set up figure with colorbar\n",
    "    fig = plt.figure()\n",
    "    ax = fig.add_subplot(111)\n",
    "    cax = ax.matshow(attentions.numpy(), cmap='bone')\n",
    "    fig.colorbar(cax)\n",
    "\n",
    "    # Set up axes\n",
    "    ax.set_xticklabels([''] + input_sentence.split(' ') +\n",
    "                       ['<EOS>'], rotation=90)\n",
    "    ax.set_yticklabels([''] + output_words)\n",
    "\n",
    "    # Show label at every tick\n",
    "    ax.xaxis.set_major_locator(ticker.MultipleLocator(1))\n",
    "    ax.yaxis.set_major_locator(ticker.MultipleLocator(1))\n",
    "\n",
    "    plt.show()\n",
    "\n",
    "\n",
    "def evaluateAndShowAttention(input_sentence):\n",
    "    output_words, attentions = evaluate(\n",
    "        encoder1, attn_decoder1, input_sentence)\n",
    "    print('input =', input_sentence)\n",
    "    print('output =', ' '.join(output_words))\n",
    "    showAttention(input_sentence, output_words, attentions)\n",
    "\n",
    "\n",
    "evaluateAndShowAttention(\"他 和 他 的 邻 居 相 处 \")\n",
    "\n",
    "evaluateAndShowAttention(\"我 肯 定 他 会 成 功 的 \")\n",
    "\n",
    "evaluateAndShowAttention(\"他 總 是 忘 記 事 情\")\n",
    "\n",
    "evaluateAndShowAttention(\"我 们 非 常 需 要 食 物 \")"
   ]
  },
  {
   "cell_type": "code",
   "execution_count": null,
   "metadata": {},
   "outputs": [],
   "source": []
  },
  {
   "cell_type": "code",
   "execution_count": null,
   "metadata": {},
   "outputs": [],
   "source": []
  },
  {
   "cell_type": "code",
   "execution_count": null,
   "metadata": {},
   "outputs": [],
   "source": []
  },
  {
   "cell_type": "code",
   "execution_count": null,
   "metadata": {},
   "outputs": [],
   "source": []
  },
  {
   "cell_type": "code",
   "execution_count": null,
   "metadata": {},
   "outputs": [],
   "source": []
  },
  {
   "cell_type": "code",
   "execution_count": null,
   "metadata": {},
   "outputs": [],
   "source": []
  }
 ],
 "metadata": {
  "kernelspec": {
   "display_name": "Python 3 (ipykernel)",
   "language": "python",
   "name": "python3"
  },
  "language_info": {
   "codemirror_mode": {
    "name": "ipython",
    "version": 3
   },
   "file_extension": ".py",
   "mimetype": "text/x-python",
   "name": "python",
   "nbconvert_exporter": "python",
   "pygments_lexer": "ipython3",
   "version": "3.9.12"
  },
  "varInspector": {
   "cols": {
    "lenName": 16,
    "lenType": 16,
    "lenVar": 40
   },
   "kernels_config": {
    "python": {
     "delete_cmd_postfix": "",
     "delete_cmd_prefix": "del ",
     "library": "var_list.py",
     "varRefreshCmd": "print(var_dic_list())"
    },
    "r": {
     "delete_cmd_postfix": ") ",
     "delete_cmd_prefix": "rm(",
     "library": "var_list.r",
     "varRefreshCmd": "cat(var_dic_list()) "
    }
   },
   "types_to_exclude": [
    "module",
    "function",
    "builtin_function_or_method",
    "instance",
    "_Feature"
   ],
   "window_display": false
  }
 },
 "nbformat": 4,
 "nbformat_minor": 4
}
